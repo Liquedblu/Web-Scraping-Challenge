{
 "cells": [
  {
   "cell_type": "code",
   "execution_count": 2,
   "id": "50c95e09",
   "metadata": {},
   "outputs": [],
   "source": [
    "# dependencies\n",
    "from bs4 import BeautifulSoup as bs\n",
    "from splinter import Browser\n",
    "import pandas as pd\n",
    "from webdriver_manager.chrome import ChromeDriverManager"
   ]
  },
  {
   "cell_type": "code",
   "execution_count": 3,
   "id": "4b29a6fd",
   "metadata": {},
   "outputs": [],
   "source": [
    "# set executable path and browser\n",
    "executable_path = {\"executable_path\": \"/Users/lique/Downloads/chromedriver\"}\n",
    "browser = Browser(\"chrome\", **executable_path, headless=False)"
   ]
  },
  {
   "cell_type": "markdown",
   "id": "e7ee160d",
   "metadata": {},
   "source": [
    "# Connecting to NASA- News on Mars"
   ]
  },
  {
   "cell_type": "code",
   "execution_count": 18,
   "id": "59474641",
   "metadata": {},
   "outputs": [],
   "source": [
    "# connect to the target website\n",
    "url = \"https://redplanetscience.com/\"\n",
    "browser.visit(url)"
   ]
  },
  {
   "cell_type": "code",
   "execution_count": 19,
   "id": "7727e70d",
   "metadata": {},
   "outputs": [],
   "source": [
    "# parse results for html with BeautifulSoup and find everything in it\n",
    "html = browser.html\n",
    "news_soup = bs(html, \"html.parser\")\n",
    "#slide_element = news_soup.select_one(\"ul.item_list li.slide\")"
   ]
  },
  {
   "cell_type": "code",
   "execution_count": 20,
   "id": "4cd98fde",
   "metadata": {},
   "outputs": [],
   "source": [
    "#slide_element.find(\"div\", class_=\"content_title\").text "
   ]
  },
  {
   "cell_type": "code",
   "execution_count": 21,
   "id": "208916fd",
   "metadata": {},
   "outputs": [
    {
     "name": "stdout",
     "output_type": "stream",
     "text": [
      "Latest News Title: NASA's Perseverance Rover Will Peer Beneath Mars' Surface \n"
     ]
    }
   ],
   "source": [
    "# scrape the latest news titles and paragraph content info\n",
    "news_title = news_soup.find(\"div\", class_=\"content_title\").get_text()\n",
    "print(f\"Latest News Title: {news_title}\")"
   ]
  },
  {
   "cell_type": "code",
   "execution_count": 22,
   "id": "33495c23",
   "metadata": {},
   "outputs": [
    {
     "name": "stdout",
     "output_type": "stream",
     "text": [
      "Content: The agency's newest rover will use the first ground-penetrating radar instrument on the Martian surface to help search for signs of past microbial life. \n"
     ]
    }
   ],
   "source": [
    "news_content = news_soup.find(\"div\", class_=\"article_teaser_body\").get_text()\n",
    "print(f\"Content: {news_content}\")"
   ]
  },
  {
   "cell_type": "markdown",
   "id": "adc4b71b",
   "metadata": {},
   "source": [
    "# JPL Mars Space Images - Featured Image"
   ]
  },
  {
   "cell_type": "code",
   "execution_count": null,
   "id": "ccd47e2a",
   "metadata": {},
   "outputs": [],
   "source": []
  }
 ],
 "metadata": {
  "kernelspec": {
   "display_name": "Python 3 (ipykernel)",
   "language": "python",
   "name": "python3"
  },
  "language_info": {
   "codemirror_mode": {
    "name": "ipython",
    "version": 3
   },
   "file_extension": ".py",
   "mimetype": "text/x-python",
   "name": "python",
   "nbconvert_exporter": "python",
   "pygments_lexer": "ipython3",
   "version": "3.9.7"
  }
 },
 "nbformat": 4,
 "nbformat_minor": 5
}
